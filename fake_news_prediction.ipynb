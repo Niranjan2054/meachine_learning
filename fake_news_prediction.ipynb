{
  "nbformat": 4,
  "nbformat_minor": 0,
  "metadata": {
    "colab": {
      "name": "fake news prediction.ipynb",
      "provenance": [],
      "collapsed_sections": []
    },
    "kernelspec": {
      "name": "python3",
      "display_name": "Python 3"
    },
    "language_info": {
      "name": "python"
    }
  },
  "cells": [
    {
      "cell_type": "markdown",
      "metadata": {
        "id": "b6sphQNXlNdk"
      },
      "source": [
        "1:fake news\n",
        "\n",
        "\n",
        "\n",
        "\n",
        "\n",
        "\n",
        "\n",
        "\n",
        "\n",
        "\n",
        "\n",
        "\n",
        "\n",
        "\n",
        "0:real news\n"
      ]
    },
    {
      "cell_type": "code",
      "metadata": {
        "id": "uzisnondlS7-"
      },
      "source": [
        "#importing dependencies\n",
        "import numpy as np\n",
        "import pandas as pd\n",
        "import re\n",
        "from sklearn.model_selection import train_test_split\n",
        "from nltk.stem.porter import PorterStemmer\n",
        "from sklearn.feature_extraction.text import TfidfVectorizer\n",
        "from sklearn.linear_model import LogisticRegression\n",
        "from sklearn.metrics import accuracy_score"
      ],
      "execution_count": null,
      "outputs": []
    },
    {
      "cell_type": "code",
      "metadata": {
        "id": "-dPn-w53oA_b"
      },
      "source": [
        "from nltk.corpus import stopwords"
      ],
      "execution_count": null,
      "outputs": []
    },
    {
      "cell_type": "code",
      "metadata": {
        "colab": {
          "base_uri": "https://localhost:8080/"
        },
        "id": "wyWd8PrAmjtN",
        "outputId": "b5346f3b-6b32-4a70-bd21-e25e33002b8e"
      },
      "source": [
        "#printing the stop word\n",
        "import nltk\n",
        "nltk.download('stopwords')\n"
      ],
      "execution_count": null,
      "outputs": [
        {
          "output_type": "stream",
          "text": [
            "[nltk_data] Downloading package stopwords to /root/nltk_data...\n",
            "[nltk_data]   Package stopwords is already up-to-date!\n"
          ],
          "name": "stdout"
        },
        {
          "output_type": "execute_result",
          "data": {
            "text/plain": [
              "True"
            ]
          },
          "metadata": {
            "tags": []
          },
          "execution_count": 16
        }
      ]
    },
    {
      "cell_type": "code",
      "metadata": {
        "colab": {
          "base_uri": "https://localhost:8080/"
        },
        "id": "U4IQeBKyneP3",
        "outputId": "0b18a46b-6885-4025-9cb4-7ec772dfe752"
      },
      "source": [
        "print(stopwords.words('english'))"
      ],
      "execution_count": null,
      "outputs": [
        {
          "output_type": "stream",
          "text": [
            "['i', 'me', 'my', 'myself', 'we', 'our', 'ours', 'ourselves', 'you', \"you're\", \"you've\", \"you'll\", \"you'd\", 'your', 'yours', 'yourself', 'yourselves', 'he', 'him', 'his', 'himself', 'she', \"she's\", 'her', 'hers', 'herself', 'it', \"it's\", 'its', 'itself', 'they', 'them', 'their', 'theirs', 'themselves', 'what', 'which', 'who', 'whom', 'this', 'that', \"that'll\", 'these', 'those', 'am', 'is', 'are', 'was', 'were', 'be', 'been', 'being', 'have', 'has', 'had', 'having', 'do', 'does', 'did', 'doing', 'a', 'an', 'the', 'and', 'but', 'if', 'or', 'because', 'as', 'until', 'while', 'of', 'at', 'by', 'for', 'with', 'about', 'against', 'between', 'into', 'through', 'during', 'before', 'after', 'above', 'below', 'to', 'from', 'up', 'down', 'in', 'out', 'on', 'off', 'over', 'under', 'again', 'further', 'then', 'once', 'here', 'there', 'when', 'where', 'why', 'how', 'all', 'any', 'both', 'each', 'few', 'more', 'most', 'other', 'some', 'such', 'no', 'nor', 'not', 'only', 'own', 'same', 'so', 'than', 'too', 'very', 's', 't', 'can', 'will', 'just', 'don', \"don't\", 'should', \"should've\", 'now', 'd', 'll', 'm', 'o', 're', 've', 'y', 'ain', 'aren', \"aren't\", 'couldn', \"couldn't\", 'didn', \"didn't\", 'doesn', \"doesn't\", 'hadn', \"hadn't\", 'hasn', \"hasn't\", 'haven', \"haven't\", 'isn', \"isn't\", 'ma', 'mightn', \"mightn't\", 'mustn', \"mustn't\", 'needn', \"needn't\", 'shan', \"shan't\", 'shouldn', \"shouldn't\", 'wasn', \"wasn't\", 'weren', \"weren't\", 'won', \"won't\", 'wouldn', \"wouldn't\"]\n"
          ],
          "name": "stdout"
        }
      ]
    },
    {
      "cell_type": "code",
      "metadata": {
        "id": "RqxKx3cxok2a"
      },
      "source": [
        "#data processing\n",
        "news_dataset=pd.read_csv(\"/content/train.csv\")"
      ],
      "execution_count": null,
      "outputs": []
    },
    {
      "cell_type": "code",
      "metadata": {
        "colab": {
          "base_uri": "https://localhost:8080/"
        },
        "id": "CH0-KL8Jo64n",
        "outputId": "60e9d652-ed14-45e6-8eeb-7e540bba4272"
      },
      "source": [
        "news_dataset.shape"
      ],
      "execution_count": null,
      "outputs": [
        {
          "output_type": "execute_result",
          "data": {
            "text/plain": [
              "(20800, 5)"
            ]
          },
          "metadata": {
            "tags": []
          },
          "execution_count": 23
        }
      ]
    },
    {
      "cell_type": "code",
      "metadata": {
        "colab": {
          "base_uri": "https://localhost:8080/",
          "height": 221
        },
        "id": "YUw7x6SZo_7I",
        "outputId": "89ba0192-c186-457b-9c74-8c78a1919c1a"
      },
      "source": [
        "news_dataset.head()"
      ],
      "execution_count": null,
      "outputs": [
        {
          "output_type": "execute_result",
          "data": {
            "text/html": [
              "<div>\n",
              "<style scoped>\n",
              "    .dataframe tbody tr th:only-of-type {\n",
              "        vertical-align: middle;\n",
              "    }\n",
              "\n",
              "    .dataframe tbody tr th {\n",
              "        vertical-align: top;\n",
              "    }\n",
              "\n",
              "    .dataframe thead th {\n",
              "        text-align: right;\n",
              "    }\n",
              "</style>\n",
              "<table border=\"1\" class=\"dataframe\">\n",
              "  <thead>\n",
              "    <tr style=\"text-align: right;\">\n",
              "      <th></th>\n",
              "      <th>id</th>\n",
              "      <th>title</th>\n",
              "      <th>author</th>\n",
              "      <th>text</th>\n",
              "      <th>label</th>\n",
              "    </tr>\n",
              "  </thead>\n",
              "  <tbody>\n",
              "    <tr>\n",
              "      <th>0</th>\n",
              "      <td>0</td>\n",
              "      <td>House Dem Aide: We Didn’t Even See Comey’s Let...</td>\n",
              "      <td>Darrell Lucus</td>\n",
              "      <td>House Dem Aide: We Didn’t Even See Comey’s Let...</td>\n",
              "      <td>1</td>\n",
              "    </tr>\n",
              "    <tr>\n",
              "      <th>1</th>\n",
              "      <td>1</td>\n",
              "      <td>FLYNN: Hillary Clinton, Big Woman on Campus - ...</td>\n",
              "      <td>Daniel J. Flynn</td>\n",
              "      <td>Ever get the feeling your life circles the rou...</td>\n",
              "      <td>0</td>\n",
              "    </tr>\n",
              "    <tr>\n",
              "      <th>2</th>\n",
              "      <td>2</td>\n",
              "      <td>Why the Truth Might Get You Fired</td>\n",
              "      <td>Consortiumnews.com</td>\n",
              "      <td>Why the Truth Might Get You Fired October 29, ...</td>\n",
              "      <td>1</td>\n",
              "    </tr>\n",
              "    <tr>\n",
              "      <th>3</th>\n",
              "      <td>3</td>\n",
              "      <td>15 Civilians Killed In Single US Airstrike Hav...</td>\n",
              "      <td>Jessica Purkiss</td>\n",
              "      <td>Videos 15 Civilians Killed In Single US Airstr...</td>\n",
              "      <td>1</td>\n",
              "    </tr>\n",
              "    <tr>\n",
              "      <th>4</th>\n",
              "      <td>4</td>\n",
              "      <td>Iranian woman jailed for fictional unpublished...</td>\n",
              "      <td>Howard Portnoy</td>\n",
              "      <td>Print \\nAn Iranian woman has been sentenced to...</td>\n",
              "      <td>1</td>\n",
              "    </tr>\n",
              "  </tbody>\n",
              "</table>\n",
              "</div>"
            ],
            "text/plain": [
              "   id  ... label\n",
              "0   0  ...     1\n",
              "1   1  ...     0\n",
              "2   2  ...     1\n",
              "3   3  ...     1\n",
              "4   4  ...     1\n",
              "\n",
              "[5 rows x 5 columns]"
            ]
          },
          "metadata": {
            "tags": []
          },
          "execution_count": 24
        }
      ]
    },
    {
      "cell_type": "code",
      "metadata": {
        "colab": {
          "base_uri": "https://localhost:8080/"
        },
        "id": "CGCbYk-LpC1-",
        "outputId": "3bd1bc60-b052-4340-9188-5ecaf74a95dc"
      },
      "source": [
        "#counting the number of missing value in data set\n",
        "news_dataset.isnull().sum()"
      ],
      "execution_count": null,
      "outputs": [
        {
          "output_type": "execute_result",
          "data": {
            "text/plain": [
              "id           0\n",
              "title      558\n",
              "author    1957\n",
              "text        39\n",
              "label        0\n",
              "dtype: int64"
            ]
          },
          "metadata": {
            "tags": []
          },
          "execution_count": 25
        }
      ]
    },
    {
      "cell_type": "code",
      "metadata": {
        "id": "Af5ai1yqpO-f"
      },
      "source": [
        "#replacing the null value with empty string\n",
        "news_datasets=news_dataset.fillna(' ')"
      ],
      "execution_count": null,
      "outputs": []
    },
    {
      "cell_type": "code",
      "metadata": {
        "colab": {
          "base_uri": "https://localhost:8080/"
        },
        "id": "B7L1kPZZtTw5",
        "outputId": "6c824dd3-a195-497b-da2b-9efb8e451753"
      },
      "source": [
        "#counting the number of missing value in data set\n",
        "news_datasets.isnull().sum()"
      ],
      "execution_count": null,
      "outputs": [
        {
          "output_type": "execute_result",
          "data": {
            "text/plain": [
              "id        0\n",
              "title     0\n",
              "author    0\n",
              "text      0\n",
              "label     0\n",
              "dtype: int64"
            ]
          },
          "metadata": {
            "tags": []
          },
          "execution_count": 28
        }
      ]
    },
    {
      "cell_type": "markdown",
      "metadata": {
        "id": "4JGES6ZlqiUb"
      },
      "source": [
        "stemming\n",
        "\n",
        "\n",
        "\n",
        "\n",
        "\n",
        "\n",
        "\n",
        "\n",
        "\n",
        "\n",
        "\n",
        "\n",
        "stemming is the process of reducing a word to its root word\n",
        "\n",
        "\n",
        "\n",
        "\n",
        "\n",
        "\n",
        "\n",
        "\n",
        "\n",
        "\n",
        "example:actor,action,actress,actio---->act"
      ]
    },
    {
      "cell_type": "code",
      "metadata": {
        "id": "Q-MQiqsupZ9P"
      },
      "source": [
        "port_stem=PorterStemmer()"
      ],
      "execution_count": null,
      "outputs": []
    },
    {
      "cell_type": "code",
      "metadata": {
        "id": "wQw5JYCtq6CZ"
      },
      "source": [
        "def stemming(text):\n",
        "    stemmed_content = re.sub('[^a-zA-Z]',' ',text)\n",
        "    stemmed_content = stemmed_content.lower()\n",
        "    stemmed_content = stemmed_content.split()\n",
        "    stemmed_content = [port_stem.stem(word) for word in stemmed_content if not word in stopwords.words('english')]\n",
        "    stemmed_content = ' '.join(stemmed_content)\n",
        "    return stemmed_content"
      ],
      "execution_count": null,
      "outputs": []
    },
    {
      "cell_type": "code",
      "metadata": {
        "id": "vOcCbl7HrPAS"
      },
      "source": [
        "news_datasets['title']=news_datasets['title'].apply(stemming)"
      ],
      "execution_count": null,
      "outputs": []
    },
    {
      "cell_type": "code",
      "metadata": {
        "colab": {
          "base_uri": "https://localhost:8080/"
        },
        "id": "TNPYpHD0roCj",
        "outputId": "fcede180-e057-41d1-9bdb-2f82d22f61e3"
      },
      "source": [
        "print((news_datasets['title']))"
      ],
      "execution_count": null,
      "outputs": [
        {
          "output_type": "stream",
          "text": [
            "0        hous dem aid even see comey letter jason chaff...\n",
            "1          flynn hillari clinton big woman campu breitbart\n",
            "2                                     truth might get fire\n",
            "3                 civilian kill singl us airstrik identifi\n",
            "4        iranian woman jail fiction unpublish stori wom...\n",
            "                               ...                        \n",
            "20795            rapper trump poster child white supremaci\n",
            "20796      n f l playoff schedul matchup odd new york time\n",
            "20797    maci said receiv takeov approach hudson bay ne...\n",
            "20798             nato russia hold parallel exercis balkan\n",
            "20799                                          keep f aliv\n",
            "Name: title, Length: 20800, dtype: object\n"
          ],
          "name": "stdout"
        }
      ]
    },
    {
      "cell_type": "code",
      "metadata": {
        "id": "zU_Z_5kGrsTW"
      },
      "source": [
        "#seperating data and label\n",
        "A=news_datasets['title'].values\n",
        "B=news_datasets['label'].values"
      ],
      "execution_count": null,
      "outputs": []
    },
    {
      "cell_type": "code",
      "metadata": {
        "colab": {
          "base_uri": "https://localhost:8080/"
        },
        "id": "q-p1hL-Tr6g0",
        "outputId": "4f054e2a-928d-413c-9dc9-17b483acd320"
      },
      "source": [
        "print(A)\n",
        "print(B)"
      ],
      "execution_count": null,
      "outputs": [
        {
          "output_type": "stream",
          "text": [
            "['hous dem aid even see comey letter jason chaffetz tweet'\n",
            " 'flynn hillari clinton big woman campu breitbart' 'truth might get fire'\n",
            " ... 'maci said receiv takeov approach hudson bay new york time'\n",
            " 'nato russia hold parallel exercis balkan' 'keep f aliv']\n",
            "[1 0 1 ... 0 1 1]\n"
          ],
          "name": "stdout"
        }
      ]
    },
    {
      "cell_type": "code",
      "metadata": {
        "colab": {
          "base_uri": "https://localhost:8080/"
        },
        "id": "QY6vDufSsAI-",
        "outputId": "df16e345-3d57-4f5b-cd38-122e4894fc74"
      },
      "source": [
        "B.shape"
      ],
      "execution_count": null,
      "outputs": [
        {
          "output_type": "execute_result",
          "data": {
            "text/plain": [
              "(20800,)"
            ]
          },
          "metadata": {
            "tags": []
          },
          "execution_count": 56
        }
      ]
    },
    {
      "cell_type": "code",
      "metadata": {
        "colab": {
          "base_uri": "https://localhost:8080/"
        },
        "id": "-9oYDRO6sAO0",
        "outputId": "546dbd44-1524-45e8-931b-652cc086bb49"
      },
      "source": [
        "#converting the test data into nu,erical data\n",
        "vectorizer=TfidfVectorizer()\n",
        "vectorizer.fit(A)"
      ],
      "execution_count": null,
      "outputs": [
        {
          "output_type": "execute_result",
          "data": {
            "text/plain": [
              "TfidfVectorizer(analyzer='word', binary=False, decode_error='strict',\n",
              "                dtype=<class 'numpy.float64'>, encoding='utf-8',\n",
              "                input='content', lowercase=True, max_df=1.0, max_features=None,\n",
              "                min_df=1, ngram_range=(1, 1), norm='l2', preprocessor=None,\n",
              "                smooth_idf=True, stop_words=None, strip_accents=None,\n",
              "                sublinear_tf=False, token_pattern='(?u)\\\\b\\\\w\\\\w+\\\\b',\n",
              "                tokenizer=None, use_idf=True, vocabulary=None)"
            ]
          },
          "metadata": {
            "tags": []
          },
          "execution_count": 57
        }
      ]
    },
    {
      "cell_type": "code",
      "metadata": {
        "colab": {
          "base_uri": "https://localhost:8080/"
        },
        "id": "k9MSsSRPsQXO",
        "outputId": "68864a73-b902-467c-ecf9-06b3c5ed560c"
      },
      "source": [
        "A=vectorizer.transform(A)\n",
        "print(A)"
      ],
      "execution_count": null,
      "outputs": [
        {
          "output_type": "stream",
          "text": [
            "  (0, 13610)\t0.3204429041871619\n",
            "  (0, 11663)\t0.28865071055944214\n",
            "  (0, 7472)\t0.3286263634991149\n",
            "  (0, 6751)\t0.37807503658407626\n",
            "  (0, 6143)\t0.24709678286281997\n",
            "  (0, 4394)\t0.2624700707018907\n",
            "  (0, 3340)\t0.3043365499413147\n",
            "  (0, 2578)\t0.2776884546129286\n",
            "  (0, 2165)\t0.4135903166037093\n",
            "  (0, 243)\t0.3038505731698672\n",
            "  (1, 14597)\t0.4029069338022535\n",
            "  (1, 5974)\t0.255243301322185\n",
            "  (1, 4874)\t0.49350006801559954\n",
            "  (1, 2444)\t0.25583271340004526\n",
            "  (1, 1946)\t0.5127916215485694\n",
            "  (1, 1650)\t0.21311459271319796\n",
            "  (1, 1313)\t0.3938922297906677\n",
            "  (2, 13543)\t0.520272613528009\n",
            "  (2, 8285)\t0.5879029381082882\n",
            "  (2, 5278)\t0.41416349493213955\n",
            "  (2, 4770)\t0.460603020443823\n",
            "  (3, 13947)\t0.2910988442735044\n",
            "  (3, 12016)\t0.4595551330231538\n",
            "  (3, 7080)\t0.3129596268768328\n",
            "  (3, 6271)\t0.48520717569885846\n",
            "  :\t:\n",
            "  (20796, 14760)\t0.12072790494289075\n",
            "  (20796, 13246)\t0.11914995894745603\n",
            "  (20796, 11529)\t0.4694159922014375\n",
            "  (20796, 9959)\t0.4804399319541416\n",
            "  (20796, 9158)\t0.4804399319541416\n",
            "  (20796, 8881)\t0.11669800295498158\n",
            "  (20796, 8020)\t0.5249887676803939\n",
            "  (20797, 14760)\t0.09865637552280436\n",
            "  (20797, 13246)\t0.09736691031793765\n",
            "  (20797, 12973)\t0.3696736308286207\n",
            "  (20797, 11376)\t0.2945252362687468\n",
            "  (20797, 10699)\t0.3234518055644813\n",
            "  (20797, 8881)\t0.09536322201345346\n",
            "  (20797, 7777)\t0.42901008705511523\n",
            "  (20797, 6173)\t0.4108078881989689\n",
            "  (20797, 1132)\t0.3978932225831085\n",
            "  (20797, 620)\t0.3640547887335783\n",
            "  (20798, 11315)\t0.24691054736365511\n",
            "  (20798, 9542)\t0.49187857119488376\n",
            "  (20798, 8769)\t0.3520491121969918\n",
            "  (20798, 6039)\t0.3583493041750179\n",
            "  (20798, 4448)\t0.45032579628279124\n",
            "  (20798, 996)\t0.49187857119488376\n",
            "  (20799, 7007)\t0.6293846938718347\n",
            "  (20799, 334)\t0.7770938856533727\n"
          ],
          "name": "stdout"
        }
      ]
    },
    {
      "cell_type": "code",
      "metadata": {
        "id": "XqwAwnYcsZkR"
      },
      "source": [
        "#spliting data ino train test and split\n",
        "A_train , A_test , B_train , B_test = train_test_split(A ,B ,test_size=0.2,stratify=Y,random_state=2)"
      ],
      "execution_count": null,
      "outputs": []
    },
    {
      "cell_type": "code",
      "metadata": {
        "id": "j8Kt0DGluaE3"
      },
      "source": [
        "model = LogisticRegression()"
      ],
      "execution_count": null,
      "outputs": []
    },
    {
      "cell_type": "code",
      "metadata": {
        "colab": {
          "base_uri": "https://localhost:8080/"
        },
        "id": "o2CMa2Bjs2Ra",
        "outputId": "2c678ccb-846b-4786-fd1b-9dfd44f9eaff"
      },
      "source": [
        "#trainning the model using logestic regression\n",
        "model.fit(X_train, Y_train)"
      ],
      "execution_count": null,
      "outputs": [
        {
          "output_type": "execute_result",
          "data": {
            "text/plain": [
              "LogisticRegression(C=1.0, class_weight=None, dual=False, fit_intercept=True,\n",
              "                   intercept_scaling=1, l1_ratio=None, max_iter=100,\n",
              "                   multi_class='auto', n_jobs=None, penalty='l2',\n",
              "                   random_state=None, solver='lbfgs', tol=0.0001, verbose=0,\n",
              "                   warm_start=False)"
            ]
          },
          "metadata": {
            "tags": []
          },
          "execution_count": 61
        }
      ]
    },
    {
      "cell_type": "code",
      "metadata": {
        "id": "YTM6tT2dtlMK"
      },
      "source": [
        "#evelautation\n",
        "#accuracy score\n",
        "# accuracy score on the training data\n",
        "A_train_prediction = model.predict(A_train)\n",
        "training_data_accuracy = accuracy_score(A_train_prediction, B_train)"
      ],
      "execution_count": null,
      "outputs": []
    },
    {
      "cell_type": "code",
      "metadata": {
        "colab": {
          "base_uri": "https://localhost:8080/"
        },
        "id": "IZRLr07MuROI",
        "outputId": "67b4b4c2-ef50-4dfd-fa27-9af084c92a2d"
      },
      "source": [
        "print('Accuracy score of the training data : ', training_data_accuracy)"
      ],
      "execution_count": null,
      "outputs": [
        {
          "output_type": "stream",
          "text": [
            "Accuracy score of the training data :  0.9400240384615385\n"
          ],
          "name": "stdout"
        }
      ]
    },
    {
      "cell_type": "code",
      "metadata": {
        "id": "YlZ--0SDvriI"
      },
      "source": [
        "#evelautation\n",
        "#accuracy score\n",
        "# accuracy score on the training data\n",
        "A_test_prediction = model.predict(A_test)\n",
        "testing_data_accuracy = accuracy_score(A_test_prediction, B_test)"
      ],
      "execution_count": null,
      "outputs": []
    },
    {
      "cell_type": "code",
      "metadata": {
        "colab": {
          "base_uri": "https://localhost:8080/"
        },
        "id": "F8jBs6WIv01W",
        "outputId": "7c0a0e68-c228-43bd-9e67-4514f66ca672"
      },
      "source": [
        "print('Accuracy score of the training data : ', testing_data_accuracy)"
      ],
      "execution_count": null,
      "outputs": [
        {
          "output_type": "stream",
          "text": [
            "Accuracy score of the training data :  0.9298076923076923\n"
          ],
          "name": "stdout"
        }
      ]
    },
    {
      "cell_type": "markdown",
      "metadata": {
        "id": "gzgA_lfEwCYz"
      },
      "source": [
        "making a predective system\n"
      ]
    },
    {
      "cell_type": "code",
      "metadata": {
        "colab": {
          "base_uri": "https://localhost:8080/"
        },
        "id": "w0wNUR4Fv7Fp",
        "outputId": "65d32fa1-1b31-46e6-e3e7-e688cf455117"
      },
      "source": [
        "X_new = A_test[5]\n",
        "\n",
        "prediction = model.predict(X_new)\n",
        "print(prediction)\n",
        "\n",
        "if (prediction[0]==0):\n",
        "  print('The news is Real')\n",
        "else:\n",
        "  print('The news is Fake')"
      ],
      "execution_count": null,
      "outputs": [
        {
          "output_type": "stream",
          "text": [
            "[1]\n",
            "The news is Fake\n"
          ],
          "name": "stdout"
        }
      ]
    },
    {
      "cell_type": "code",
      "metadata": {
        "colab": {
          "base_uri": "https://localhost:8080/"
        },
        "id": "UTMKKTD0wGo0",
        "outputId": "d548fa3f-e9e6-4337-fdea-c5c6bb58965c"
      },
      "source": [
        "print(B_test[5])"
      ],
      "execution_count": null,
      "outputs": [
        {
          "output_type": "stream",
          "text": [
            "1\n"
          ],
          "name": "stdout"
        }
      ]
    },
    {
      "cell_type": "code",
      "metadata": {
        "id": "XzcPZQdwwRJP"
      },
      "source": [
        ""
      ],
      "execution_count": null,
      "outputs": []
    }
  ]
}