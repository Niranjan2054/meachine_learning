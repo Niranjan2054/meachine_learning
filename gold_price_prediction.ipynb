{
  "nbformat": 4,
  "nbformat_minor": 0,
  "metadata": {
    "colab": {
      "name": "gold_price_prediction.ipynb",
      "provenance": [],
      "collapsed_sections": []
    },
    "kernelspec": {
      "name": "python3",
      "display_name": "Python 3"
    },
    "language_info": {
      "name": "python"
    }
  },
  "cells": [
    {
      "cell_type": "code",
      "metadata": {
        "id": "bI7yREOm4KBR"
      },
      "source": [
        "import pandas as pd\n",
        "import numpy as np\n",
        "from sklearn.model_selection import train_test_split\n",
        "from sklearn.preprocessing import StandardScaler\n",
        "import seaborn as sns\n",
        "import matplotlib.pyplot as plt\n",
        "from sklearn import metrics\n",
        "from sklearn.ensemble import RandomForestRegressor"
      ],
      "execution_count": 1,
      "outputs": []
    },
    {
      "cell_type": "code",
      "metadata": {
        "id": "m5H2JVnE52pF"
      },
      "source": [
        "gold=pd.read_csv(\"/content/gld_price_data.csv\")"
      ],
      "execution_count": 2,
      "outputs": []
    },
    {
      "cell_type": "code",
      "metadata": {
        "colab": {
          "base_uri": "https://localhost:8080/",
          "height": 204
        },
        "id": "M3k-FA-k5-O_",
        "outputId": "7f04df7d-6294-4b83-d492-f566ada06bbf"
      },
      "source": [
        "gold.head()"
      ],
      "execution_count": 3,
      "outputs": [
        {
          "output_type": "execute_result",
          "data": {
            "text/html": [
              "<div>\n",
              "<style scoped>\n",
              "    .dataframe tbody tr th:only-of-type {\n",
              "        vertical-align: middle;\n",
              "    }\n",
              "\n",
              "    .dataframe tbody tr th {\n",
              "        vertical-align: top;\n",
              "    }\n",
              "\n",
              "    .dataframe thead th {\n",
              "        text-align: right;\n",
              "    }\n",
              "</style>\n",
              "<table border=\"1\" class=\"dataframe\">\n",
              "  <thead>\n",
              "    <tr style=\"text-align: right;\">\n",
              "      <th></th>\n",
              "      <th>Date</th>\n",
              "      <th>SPX</th>\n",
              "      <th>GLD</th>\n",
              "      <th>USO</th>\n",
              "      <th>SLV</th>\n",
              "      <th>EUR/USD</th>\n",
              "    </tr>\n",
              "  </thead>\n",
              "  <tbody>\n",
              "    <tr>\n",
              "      <th>0</th>\n",
              "      <td>1/2/2008</td>\n",
              "      <td>1447.160034</td>\n",
              "      <td>84.860001</td>\n",
              "      <td>78.470001</td>\n",
              "      <td>15.180</td>\n",
              "      <td>1.471692</td>\n",
              "    </tr>\n",
              "    <tr>\n",
              "      <th>1</th>\n",
              "      <td>1/3/2008</td>\n",
              "      <td>1447.160034</td>\n",
              "      <td>85.570000</td>\n",
              "      <td>78.370003</td>\n",
              "      <td>15.285</td>\n",
              "      <td>1.474491</td>\n",
              "    </tr>\n",
              "    <tr>\n",
              "      <th>2</th>\n",
              "      <td>1/4/2008</td>\n",
              "      <td>1411.630005</td>\n",
              "      <td>85.129997</td>\n",
              "      <td>77.309998</td>\n",
              "      <td>15.167</td>\n",
              "      <td>1.475492</td>\n",
              "    </tr>\n",
              "    <tr>\n",
              "      <th>3</th>\n",
              "      <td>1/7/2008</td>\n",
              "      <td>1416.180054</td>\n",
              "      <td>84.769997</td>\n",
              "      <td>75.500000</td>\n",
              "      <td>15.053</td>\n",
              "      <td>1.468299</td>\n",
              "    </tr>\n",
              "    <tr>\n",
              "      <th>4</th>\n",
              "      <td>1/8/2008</td>\n",
              "      <td>1390.189941</td>\n",
              "      <td>86.779999</td>\n",
              "      <td>76.059998</td>\n",
              "      <td>15.590</td>\n",
              "      <td>1.557099</td>\n",
              "    </tr>\n",
              "  </tbody>\n",
              "</table>\n",
              "</div>"
            ],
            "text/plain": [
              "       Date          SPX        GLD        USO     SLV   EUR/USD\n",
              "0  1/2/2008  1447.160034  84.860001  78.470001  15.180  1.471692\n",
              "1  1/3/2008  1447.160034  85.570000  78.370003  15.285  1.474491\n",
              "2  1/4/2008  1411.630005  85.129997  77.309998  15.167  1.475492\n",
              "3  1/7/2008  1416.180054  84.769997  75.500000  15.053  1.468299\n",
              "4  1/8/2008  1390.189941  86.779999  76.059998  15.590  1.557099"
            ]
          },
          "metadata": {
            "tags": []
          },
          "execution_count": 3
        }
      ]
    },
    {
      "cell_type": "code",
      "metadata": {
        "colab": {
          "base_uri": "https://localhost:8080/"
        },
        "id": "OPIGJWYo6Bhh",
        "outputId": "953afb92-894a-4370-ee4d-a8fc8f5f7b60"
      },
      "source": [
        "gold.shape"
      ],
      "execution_count": 4,
      "outputs": [
        {
          "output_type": "execute_result",
          "data": {
            "text/plain": [
              "(2290, 6)"
            ]
          },
          "metadata": {
            "tags": []
          },
          "execution_count": 4
        }
      ]
    },
    {
      "cell_type": "code",
      "metadata": {
        "colab": {
          "base_uri": "https://localhost:8080/",
          "height": 297
        },
        "id": "USkM45ie6Fd-",
        "outputId": "5381d585-25af-4b4b-e12a-236979dcedd3"
      },
      "source": [
        "gold.describe()"
      ],
      "execution_count": 5,
      "outputs": [
        {
          "output_type": "execute_result",
          "data": {
            "text/html": [
              "<div>\n",
              "<style scoped>\n",
              "    .dataframe tbody tr th:only-of-type {\n",
              "        vertical-align: middle;\n",
              "    }\n",
              "\n",
              "    .dataframe tbody tr th {\n",
              "        vertical-align: top;\n",
              "    }\n",
              "\n",
              "    .dataframe thead th {\n",
              "        text-align: right;\n",
              "    }\n",
              "</style>\n",
              "<table border=\"1\" class=\"dataframe\">\n",
              "  <thead>\n",
              "    <tr style=\"text-align: right;\">\n",
              "      <th></th>\n",
              "      <th>SPX</th>\n",
              "      <th>GLD</th>\n",
              "      <th>USO</th>\n",
              "      <th>SLV</th>\n",
              "      <th>EUR/USD</th>\n",
              "    </tr>\n",
              "  </thead>\n",
              "  <tbody>\n",
              "    <tr>\n",
              "      <th>count</th>\n",
              "      <td>2290.000000</td>\n",
              "      <td>2290.000000</td>\n",
              "      <td>2290.000000</td>\n",
              "      <td>2290.000000</td>\n",
              "      <td>2290.000000</td>\n",
              "    </tr>\n",
              "    <tr>\n",
              "      <th>mean</th>\n",
              "      <td>1654.315776</td>\n",
              "      <td>122.732875</td>\n",
              "      <td>31.842221</td>\n",
              "      <td>20.084997</td>\n",
              "      <td>1.283653</td>\n",
              "    </tr>\n",
              "    <tr>\n",
              "      <th>std</th>\n",
              "      <td>519.111540</td>\n",
              "      <td>23.283346</td>\n",
              "      <td>19.523517</td>\n",
              "      <td>7.092566</td>\n",
              "      <td>0.131547</td>\n",
              "    </tr>\n",
              "    <tr>\n",
              "      <th>min</th>\n",
              "      <td>676.530029</td>\n",
              "      <td>70.000000</td>\n",
              "      <td>7.960000</td>\n",
              "      <td>8.850000</td>\n",
              "      <td>1.039047</td>\n",
              "    </tr>\n",
              "    <tr>\n",
              "      <th>25%</th>\n",
              "      <td>1239.874969</td>\n",
              "      <td>109.725000</td>\n",
              "      <td>14.380000</td>\n",
              "      <td>15.570000</td>\n",
              "      <td>1.171313</td>\n",
              "    </tr>\n",
              "    <tr>\n",
              "      <th>50%</th>\n",
              "      <td>1551.434998</td>\n",
              "      <td>120.580002</td>\n",
              "      <td>33.869999</td>\n",
              "      <td>17.268500</td>\n",
              "      <td>1.303296</td>\n",
              "    </tr>\n",
              "    <tr>\n",
              "      <th>75%</th>\n",
              "      <td>2073.010070</td>\n",
              "      <td>132.840004</td>\n",
              "      <td>37.827501</td>\n",
              "      <td>22.882499</td>\n",
              "      <td>1.369971</td>\n",
              "    </tr>\n",
              "    <tr>\n",
              "      <th>max</th>\n",
              "      <td>2872.870117</td>\n",
              "      <td>184.589996</td>\n",
              "      <td>117.480003</td>\n",
              "      <td>47.259998</td>\n",
              "      <td>1.598798</td>\n",
              "    </tr>\n",
              "  </tbody>\n",
              "</table>\n",
              "</div>"
            ],
            "text/plain": [
              "               SPX          GLD          USO          SLV      EUR/USD\n",
              "count  2290.000000  2290.000000  2290.000000  2290.000000  2290.000000\n",
              "mean   1654.315776   122.732875    31.842221    20.084997     1.283653\n",
              "std     519.111540    23.283346    19.523517     7.092566     0.131547\n",
              "min     676.530029    70.000000     7.960000     8.850000     1.039047\n",
              "25%    1239.874969   109.725000    14.380000    15.570000     1.171313\n",
              "50%    1551.434998   120.580002    33.869999    17.268500     1.303296\n",
              "75%    2073.010070   132.840004    37.827501    22.882499     1.369971\n",
              "max    2872.870117   184.589996   117.480003    47.259998     1.598798"
            ]
          },
          "metadata": {
            "tags": []
          },
          "execution_count": 5
        }
      ]
    },
    {
      "cell_type": "code",
      "metadata": {
        "colab": {
          "base_uri": "https://localhost:8080/"
        },
        "id": "8sYxpxmI6Q_d",
        "outputId": "87883074-a368-413f-ccee-8719809c67e1"
      },
      "source": [
        "gold.info()"
      ],
      "execution_count": 7,
      "outputs": [
        {
          "output_type": "stream",
          "text": [
            "<class 'pandas.core.frame.DataFrame'>\n",
            "RangeIndex: 2290 entries, 0 to 2289\n",
            "Data columns (total 6 columns):\n",
            " #   Column   Non-Null Count  Dtype  \n",
            "---  ------   --------------  -----  \n",
            " 0   Date     2290 non-null   object \n",
            " 1   SPX      2290 non-null   float64\n",
            " 2   GLD      2290 non-null   float64\n",
            " 3   USO      2290 non-null   float64\n",
            " 4   SLV      2290 non-null   float64\n",
            " 5   EUR/USD  2290 non-null   float64\n",
            "dtypes: float64(5), object(1)\n",
            "memory usage: 107.5+ KB\n"
          ],
          "name": "stdout"
        }
      ]
    },
    {
      "cell_type": "code",
      "metadata": {
        "colab": {
          "base_uri": "https://localhost:8080/"
        },
        "id": "k4WZFcmL7EEq",
        "outputId": "9bc4faeb-44df-46cd-8f8e-2c117f63ce69"
      },
      "source": [
        "gold.isnull().sum()"
      ],
      "execution_count": 9,
      "outputs": [
        {
          "output_type": "execute_result",
          "data": {
            "text/plain": [
              "Date       0\n",
              "SPX        0\n",
              "GLD        0\n",
              "USO        0\n",
              "SLV        0\n",
              "EUR/USD    0\n",
              "dtype: int64"
            ]
          },
          "metadata": {
            "tags": []
          },
          "execution_count": 9
        }
      ]
    },
    {
      "cell_type": "code",
      "metadata": {
        "id": "31tRzGZe7JCd"
      },
      "source": [
        "correlation = gold.corr()"
      ],
      "execution_count": 11,
      "outputs": []
    },
    {
      "cell_type": "code",
      "metadata": {
        "colab": {
          "base_uri": "https://localhost:8080/",
          "height": 487
        },
        "id": "lMzAPfu67Vlk",
        "outputId": "a919acc2-6498-438d-c969-50394071643d"
      },
      "source": [
        "# constructing a heatmap to understand the correlatiom\n",
        "plt.figure(figsize = (8,8))\n",
        "sns.heatmap(correlation, cbar=True, square=True, fmt='.1f',annot=True, annot_kws={'size':8}, cmap='Blues')"
      ],
      "execution_count": 12,
      "outputs": [
        {
          "output_type": "execute_result",
          "data": {
            "text/plain": [
              "<matplotlib.axes._subplots.AxesSubplot at 0x7ff2b7865250>"
            ]
          },
          "metadata": {
            "tags": []
          },
          "execution_count": 12
        },
        {
          "output_type": "display_data",
          "data": {
            "image/png": "[encoded data removed]",
            "text/plain": [
              "<Figure size 576x576 with 2 Axes>"
            ]
          },
          "metadata": {
            "tags": [],
            "needs_background": "light"
          }
        }
      ]
    },
    {
      "cell_type": "code",
      "metadata": {
        "colab": {
          "base_uri": "https://localhost:8080/"
        },
        "id": "jJU45eh67bXm",
        "outputId": "3f0bc44e-bb81-4895-d8a3-c4287e609aa3"
      },
      "source": [
        "# correlation values of GLD\n",
        "print(correlation['GLD'])"
      ],
      "execution_count": 13,
      "outputs": [
        {
          "output_type": "stream",
          "text": [
            "SPX        0.049345\n",
            "GLD        1.000000\n",
            "USO       -0.186360\n",
            "SLV        0.866632\n",
            "EUR/USD   -0.024375\n",
            "Name: GLD, dtype: float64\n"
          ],
          "name": "stdout"
        }
      ]
    },
    {
      "cell_type": "code",
      "metadata": {
        "colab": {
          "base_uri": "https://localhost:8080/",
          "height": 354
        },
        "id": "qVMzBZTU7hXB",
        "outputId": "cc28efb4-05e5-4e89-ba0e-583c59576bf8"
      },
      "source": [
        "# checking the distribution of the GLD Price\n",
        "sns.distplot(gold['GLD'],color='green')"
      ],
      "execution_count": 15,
      "outputs": [
        {
          "output_type": "stream",
          "text": [
            "/usr/local/lib/python3.7/dist-packages/seaborn/distributions.py:2557: FutureWarning: `distplot` is a deprecated function and will be removed in a future version. Please adapt your code to use either `displot` (a figure-level function with similar flexibility) or `histplot` (an axes-level function for histograms).\n",
            "  warnings.warn(msg, FutureWarning)\n"
          ],
          "name": "stderr"
        },
        {
          "output_type": "execute_result",
          "data": {
            "text/plain": [
              "<matplotlib.axes._subplots.AxesSubplot at 0x7ff2af1e2890>"
            ]
          },
          "metadata": {
            "tags": []
          },
          "execution_count": 15
        },
        {
          "output_type": "display_data",
          "data": {
            "image/png": "[encoded data removed]",
            "text/plain": [
              "<Figure size 432x288 with 1 Axes>"
            ]
          },
          "metadata": {
            "tags": [],
            "needs_background": "light"
          }
        }
      ]
    },
    {
      "cell_type": "code",
      "metadata": {
        "id": "u1t47Etw7jwY"
      },
      "source": [
        "X = gold.drop(['Date','GLD'],axis=1)\n",
        "Y = gold['GLD']"
      ],
      "execution_count": 17,
      "outputs": []
    },
    {
      "cell_type": "code",
      "metadata": {
        "colab": {
          "base_uri": "https://localhost:8080/"
        },
        "id": "UB3zPv0k7pGP",
        "outputId": "19a692ec-eb59-4c24-ed02-3b699ea0e595"
      },
      "source": [
        "print(X)"
      ],
      "execution_count": 21,
      "outputs": [
        {
          "output_type": "stream",
          "text": [
            "              SPX        USO      SLV   EUR/USD\n",
            "0     1447.160034  78.470001  15.1800  1.471692\n",
            "1     1447.160034  78.370003  15.2850  1.474491\n",
            "2     1411.630005  77.309998  15.1670  1.475492\n",
            "3     1416.180054  75.500000  15.0530  1.468299\n",
            "4     1390.189941  76.059998  15.5900  1.557099\n",
            "...           ...        ...      ...       ...\n",
            "2285  2671.919922  14.060000  15.5100  1.186789\n",
            "2286  2697.790039  14.370000  15.5300  1.184722\n",
            "2287  2723.070068  14.410000  15.7400  1.191753\n",
            "2288  2730.129883  14.380000  15.5600  1.193118\n",
            "2289  2725.780029  14.405800  15.4542  1.182033\n",
            "\n",
            "[2290 rows x 4 columns]\n"
          ],
          "name": "stdout"
        }
      ]
    },
    {
      "cell_type": "code",
      "metadata": {
        "colab": {
          "base_uri": "https://localhost:8080/"
        },
        "id": "RliskIa07tWu",
        "outputId": "cf464ef7-eee9-4270-8ae5-5d2da32bc18a"
      },
      "source": [
        "print(Y)"
      ],
      "execution_count": 20,
      "outputs": [
        {
          "output_type": "stream",
          "text": [
            "0        84.860001\n",
            "1        85.570000\n",
            "2        85.129997\n",
            "3        84.769997\n",
            "4        86.779999\n",
            "           ...    \n",
            "2285    124.589996\n",
            "2286    124.330002\n",
            "2287    125.180000\n",
            "2288    124.489998\n",
            "2289    122.543800\n",
            "Name: GLD, Length: 2290, dtype: float64\n"
          ],
          "name": "stdout"
        }
      ]
    },
    {
      "cell_type": "code",
      "metadata": {
        "id": "1LNT1bK87wor"
      },
      "source": [
        "X_train,X_test,Y_train,Y_test = train_test_split(X,Y,test_size=0.2,random_state=2)"
      ],
      "execution_count": 23,
      "outputs": []
    },
    {
      "cell_type": "code",
      "metadata": {
        "id": "FX14xneI8Fmd"
      },
      "source": [
        "regressor = RandomForestRegressor(n_estimators=100)"
      ],
      "execution_count": 24,
      "outputs": []
    },
    {
      "cell_type": "code",
      "metadata": {
        "colab": {
          "base_uri": "https://localhost:8080/"
        },
        "id": "pUnOwZ5V8Pc1",
        "outputId": "ba6f311c-e922-40cd-a858-a7cfb0357cc0"
      },
      "source": [
        "# training the model\n",
        "regressor.fit(X_train,Y_train)"
      ],
      "execution_count": 25,
      "outputs": [
        {
          "output_type": "execute_result",
          "data": {
            "text/plain": [
              "RandomForestRegressor(bootstrap=True, ccp_alpha=0.0, criterion='mse',\n",
              "                      max_depth=None, max_features='auto', max_leaf_nodes=None,\n",
              "                      max_samples=None, min_impurity_decrease=0.0,\n",
              "                      min_impurity_split=None, min_samples_leaf=1,\n",
              "                      min_samples_split=2, min_weight_fraction_leaf=0.0,\n",
              "                      n_estimators=100, n_jobs=None, oob_score=False,\n",
              "                      random_state=None, verbose=0, warm_start=False)"
            ]
          },
          "metadata": {
            "tags": []
          },
          "execution_count": 25
        }
      ]
    },
    {
      "cell_type": "code",
      "metadata": {
        "id": "GQrPU_sw8RT8"
      },
      "source": [
        "# prediction on Test Data\n",
        "test_data_prediction = regressor.predict(X_test)"
      ],
      "execution_count": 26,
      "outputs": []
    },
    {
      "cell_type": "code",
      "metadata": {
        "colab": {
          "base_uri": "https://localhost:8080/"
        },
        "id": "eo7G4l7q8T8u",
        "outputId": "e62a854e-a30a-4159-f0d0-85f5d29f026a"
      },
      "source": [
        "print(test_data_prediction)"
      ],
      "execution_count": 27,
      "outputs": [
        {
          "output_type": "stream",
          "text": [
            "[168.62419986  81.88239992 116.14900042 127.40300038 120.66640135\n",
            " 154.94709774 150.31129848 126.17190037 117.59509861 126.10020032\n",
            " 116.55600094 171.84350066 141.2019982  167.69659892 115.02649985\n",
            " 117.55850015 141.5283034  170.20410074 159.13610384 158.05559974\n",
            " 155.16370033 125.66600028 176.10309878 156.98520358 125.20140016\n",
            "  94.08709963  77.57019994 120.52820033 119.24919968 167.45889919\n",
            "  88.24220032 125.19689999  91.22000082 117.55220028 121.08679896\n",
            " 136.32010031 115.52920131 115.16660088 147.37149946 107.62470132\n",
            " 104.44970225  87.23879779 126.57540055 118.00990003 154.739899\n",
            " 119.50770023 108.37799978 108.15959821  93.18530057 127.13659774\n",
            "  74.79990034 113.61479939 121.53590004 111.26819917 118.83249889\n",
            " 120.69009935 159.22810064 164.75330212 147.14059674  85.8432986\n",
            "  94.17920035  86.87919876  90.47630043 119.05900046 126.44320096\n",
            " 127.67309997 170.0037003  122.26619916 117.20859905  98.4542002\n",
            " 167.70480122 142.97339865 131.91050253 121.07650198 120.99099923\n",
            " 119.71980047 114.54060181 118.55780044 107.32780114 127.89310027\n",
            " 114.10119988 107.47070052 116.64700051 119.58639865  88.86230045\n",
            "  88.21579865 147.0298022  127.2713999  113.7144001  110.02019808\n",
            " 108.26899912  77.42159875 168.83050183 114.16829918 121.55919925\n",
            " 127.9538021  155.09469786  91.69569939 135.58680114 158.78420312\n",
            " 125.27000046 125.29550073 130.58230151 114.94680134 119.92680001\n",
            "  92.07219991 109.91419877 167.98789942 156.23749938 114.33219964\n",
            " 106.78990095  79.07919984 113.23770015 125.92700052 106.82489924\n",
            " 119.55670105 155.891003   160.12869882 120.30810011 135.8447024\n",
            " 101.38219996 117.31249799 119.33820049 113.01480109 102.77499924\n",
            " 159.97569795  99.13610055 148.43599953 125.58930091 169.80109855\n",
            " 125.83699864 127.38749755 127.49620213 113.83829915 112.87470038\n",
            " 123.43139912 102.20079899  89.43589987 124.6194995  101.74259927\n",
            " 107.17789938 113.29440093 117.35290054  99.23649953 121.81220043\n",
            " 162.98549913  87.27369859 106.69179951 117.37170055 127.72210068\n",
            " 124.10160046  80.68839945 120.24290066 158.22999786  88.00309974\n",
            " 110.47019961 119.04219931 172.84269872 103.00049909 105.53730072\n",
            " 122.31210071 158.32839798  87.86489819  93.28330065 112.82640024\n",
            " 177.73349883 114.0512999  119.37890036  94.67400107 125.63039975\n",
            " 166.04100125 114.84090094 116.74370148  88.31029872 149.11220154\n",
            " 120.35679943  89.44529966 111.58700022 117.3059006  118.7121012\n",
            "  88.04609943  94.17980012 116.80349987 118.59850176 120.23140057\n",
            " 126.84289803 121.96119994 150.62140029 165.00520123 118.50489952\n",
            " 120.09180138 151.0145004  118.58029916 172.50039862 105.60489921\n",
            " 105.02100062 149.37740158 113.71850061 124.85990118 147.22339879\n",
            " 119.69900113 115.33450061 112.56220009 113.39030232 142.2412014\n",
            " 117.80539779 103.01300082 115.78960139 103.55000191  98.93080044\n",
            " 117.5147009   90.52510002  91.41380034 153.42399935 102.7465997\n",
            " 154.77260105 114.35400161 138.4939014   90.22529835 115.67539926\n",
            " 114.75399983 122.98710038 121.79730014 165.43980144  92.83999931\n",
            " 134.74850084 121.28459962 120.85720031 104.66880021 142.25150321\n",
            " 122.0552993  116.60950031 113.87800089 127.16099781 122.44629929\n",
            " 125.80569944 121.21330072  86.82649866 132.90130105 143.95820218\n",
            "  92.73449946 156.9608993  159.02660269 126.32789898 164.64579955\n",
            " 108.69579922 110.13350063 103.73379814  94.52949996 127.70860269\n",
            " 107.03260018 159.9279995  121.87350035 132.07060037 130.60520175\n",
            " 160.40349987  90.33269836 175.59970188 127.44790059 126.81189829\n",
            "  86.24619939 124.59189959 150.32859705  89.63939986 106.85639958\n",
            " 108.89470009  84.70519916 135.72450095 155.17620268 139.44440391\n",
            "  73.63050026 152.11280059 126.07220028 126.81900008 127.41119886\n",
            " 108.56249952 156.16940073 114.56590114 117.11350115 125.48809967\n",
            " 153.91600155 121.3201999  156.4880982   92.8687007  125.48930131\n",
            " 125.94230068  88.02630052  92.02729918 126.22649939 128.46930396\n",
            " 113.23970031 117.60449718 120.95009977 127.19079802 119.60990148\n",
            " 136.28740023  93.96009906 119.68570011 113.5045012   94.27389946\n",
            " 108.83319969  87.89789927 109.24119905  89.5202998   92.42990044\n",
            " 131.5230034  162.51790001  89.3832001  119.61190093 133.41560167\n",
            " 123.9458002  128.54590225 101.96719853  88.9835988  131.43090033\n",
            " 119.72610043 108.59709975 167.67830068 115.12200048  86.57019908\n",
            " 118.88800059  90.96239978 161.84650057 116.45500052 121.62259981\n",
            " 160.08239698 120.13769945 112.89059935 108.39889891 126.55240004\n",
            "  75.9776004  103.00709984 127.51070202 121.81279902  92.58989985\n",
            " 132.02720083 117.96510116 116.13789999 154.80540263 159.98460083\n",
            " 110.09969985 155.94769832 119.35700052 159.86420076 118.75290024\n",
            " 157.37329933 115.17199915 116.47140034 149.14509906 114.88160073\n",
            " 125.58969853 166.19859883 117.77320001 124.87449994 153.6123034\n",
            " 153.43170254 132.12999983 114.79460027 121.09610198 125.08950085\n",
            "  90.0071004  123.19149992 155.08550201 111.7487003  106.64699968\n",
            " 162.17280171 118.5826996  165.74389983 133.78460128 114.98379961\n",
            " 153.00389935 168.82780072 115.10460011 114.05310129 157.78669849\n",
            "  85.31479872 127.10820046 128.00530051 128.85419977 124.23200078\n",
            " 123.82470066  90.64990079 153.35149946  97.04979976 137.81839909\n",
            "  89.19529894 107.57460049 114.9921002  112.63070059 124.42639907\n",
            "  91.25449884 125.252301   162.43689833 119.99699863 165.06030105\n",
            " 126.87539789 112.44190022 127.5294993   94.9745988   91.11929994\n",
            " 102.96509905 120.8697      83.1918994  126.46709985 159.91800486\n",
            " 117.23230099 118.25989959 119.86599986 122.79739957 120.15590117\n",
            " 121.56919999 118.28830067 107.01099963 148.32639989 126.22429824\n",
            " 115.68130086  73.95079996 127.75520091 154.99000114 122.00290007\n",
            " 125.58850026  88.81449979 103.33389858 124.33070042 120.08900061\n",
            "  73.46450074 151.74550029 121.31360015 104.64469981  86.4563981\n",
            " 115.44209932 172.24519836 119.87360022 159.57709766 113.19859937\n",
            " 120.89250022 118.56460117  96.02489969 118.59430032 125.7376003\n",
            " 118.5711995   96.23880069 153.99940207 122.1452999  147.49589992\n",
            " 159.3389029  113.9057002  122.4584997  150.870998   127.21880065\n",
            " 166.01460042 136.42839967 120.05439968 167.11749883 108.43279914\n",
            " 121.7094985  139.14510088 106.65359889]\n"
          ],
          "name": "stdout"
        }
      ]
    },
    {
      "cell_type": "code",
      "metadata": {
        "colab": {
          "base_uri": "https://localhost:8080/"
        },
        "id": "hpUmjPeQ8WWx",
        "outputId": "dfdfe407-b450-424d-87ed-a534f797c1f1"
      },
      "source": [
        "# R squared error\n",
        "error_score = metrics.r2_score(Y_test, test_data_prediction)\n",
        "print(\"R squared error : \", error_score)"
      ],
      "execution_count": 28,
      "outputs": [
        {
          "output_type": "stream",
          "text": [
            "R squared error :  0.9889836001265337\n"
          ],
          "name": "stdout"
        }
      ]
    },
    {
      "cell_type": "code",
      "metadata": {
        "id": "zuEaKRdw8aJ1"
      },
      "source": [
        "Y_test = list(Y_test)"
      ],
      "execution_count": 29,
      "outputs": []
    },
    {
      "cell_type": "code",
      "metadata": {
        "colab": {
          "base_uri": "https://localhost:8080/",
          "height": 295
        },
        "id": "TRXiweHg8b5D",
        "outputId": "71537f14-4cc8-43a2-dce3-dbc534cba9aa"
      },
      "source": [
        "plt.plot(Y_test, color='blue', label = 'Actual Value')\n",
        "plt.plot(test_data_prediction, color='green', label='Predicted Value')\n",
        "plt.title('Actual Price vs Predicted Price')\n",
        "plt.xlabel('Number of values')\n",
        "plt.ylabel('GLD Price')\n",
        "plt.legend()\n",
        "plt.show()"
      ],
      "execution_count": 30,
      "outputs": [
        {
          "output_type": "display_data",
          "data": {
            "image/png": "[encoded data removed]",
            "text/plain": [
              "<Figure size 432x288 with 1 Axes>"
            ]
          },
          "metadata": {
            "tags": [],
            "needs_background": "light"
          }
        }
      ]
    },
    {
      "cell_type": "code",
      "metadata": {
        "id": "gUduHO-m8eKK"
      },
      "source": [
        ""
      ],
      "execution_count": null,
      "outputs": []
    }
  ]
}